{
 "cells": [
  {
   "cell_type": "markdown",
   "id": "1f8a1b99",
   "metadata": {},
   "source": [
    "### MySQL COPY Database\n",
    "A database is an application used for storing the organized collection of records that can be accessed and manage by the user. It holds the data into tables, rows, columns, and indexes to quickly find the relevant information.\n",
    "\n",
    "MySQL copy or clone database is a feature that allows us to create a duplicate copy of an existing database, including the table structure, indexes, constraints, default values, etc. Making a duplicate copy of an original database into a new database is very useful when accidentally our database is lost or failure. The most common use of making a duplicate copy of the database is for data backups. It is also useful when planning the major changes to the structure of the original database.\n",
    "\n",
    "In MySQL, making the clone of an original database is a three-step process: First, the original database records are dumped (copied) to a temporary file that holds the SQL commands for reinserting the data into the new database. Second, it is required to create a new database. Finally, the SQL file is processed, and the data will be copied into the new database.\n",
    "\n",
    "We need to follow these steps to copy a database to another database:\n",
    "\n",
    "1. First, use the CREATE DATABASE statement to create a new database.\n",
    "2. Second, store the data to an SQL file. We can give any name to this file, but it must end with a .sql extension.\n",
    "3. Third, export all the database objects along with its data to copy using the mysqldump tool and then import this file into the new database.\n",
    "For the demonstration, we will copy the Employee database to Customer database using these steps:"
   ]
  },
  {
   "cell_type": "markdown",
   "id": "8e37a1fe",
   "metadata": {},
   "source": [
    "1. Open the MySQL console and write down the password, if we have set during installation. Now we are ready to create a duplicate database of Employee using the command:\n",
    "\n",
    "    ##### mysql> CREATE DATABASE testdb_copy;  \n",
    "    \n",
    "\n",
    "2. Next, use the SHOW DATABASES statement for verification:\n",
    "\n",
    "    ##### mysql> SHOW DATABASES;  \n",
    "\n",
    "    This command will return all available database  where we can see the newly created database:\n",
    "\n",
    "3. Now, open a DOS or terminal window to access the MySQL server on the command line. For example, if we have installed the MySQL in the C folder, copy the path of bin folder and paste it in our DOS command. Then, press the Enter key.\n",
    "\n",
    "    ##### C:\\Users\\javatpoint> CD C:\\Program Files\\MySQL\\MySQL Server 8.0\\bin    \n",
    "    \n",
    "4. In the next step, we need to use the mysqldump tool to copy the database objects and data into the SQL file. Suppose we want to dump (copy) the database objects and data of the Employee into an SQL file located at D:\\Database_backup folder. To do this, execute the this statement:\n",
    "\n",
    "    ##### mysqldump -u root -p Employee > D:\\Database_backup\\Employee.sql  \n",
    "    ##### Enter password: **********  \n",
    "\n",
    "    The above statement instructs mysqldump tool to log in to the MySQL database server using the username and password and then exports the database objects and data of the Employee database to D:\\Database_backup\\Employee.sql. It is to note that the operator (>) used for exporting the database from one location to another.\n",
    "\n",
    "5. In the next step, we need to import the D:\\Database_backup\\Employee.sql file into Customer database. To do this, execute this statement:\n",
    "\n",
    "    ##### mysql -u root -p Customer < D:\\Database_backup\\Employee.sql  \n",
    "    ##### Enter password: **********  \n",
    "\n",
    "    It is to note that the operator (<) used for importing the database from one location to another.\n",
    "\n",
    "    Finally, we can verify whether the all operation is successful or not by using the SHOW TABLES command in the MySQL command-line tool:\n",
    "\n",
    "    ##### mysql> SHOW TABLES;  \n",
    "\n",
    "    In this output, we can see that all the objects and data from the Employee database to Customer database have successfully copied."
   ]
  },
  {
   "cell_type": "code",
   "execution_count": null,
   "id": "17925a2f",
   "metadata": {},
   "outputs": [],
   "source": []
  }
 ],
 "metadata": {
  "kernelspec": {
   "display_name": "Python 3 (ipykernel)",
   "language": "python",
   "name": "python3"
  },
  "language_info": {
   "codemirror_mode": {
    "name": "ipython",
    "version": 3
   },
   "file_extension": ".py",
   "mimetype": "text/x-python",
   "name": "python",
   "nbconvert_exporter": "python",
   "pygments_lexer": "ipython3",
   "version": "3.11.4"
  }
 },
 "nbformat": 4,
 "nbformat_minor": 5
}
