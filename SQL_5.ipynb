{
 "cells": [
  {
   "cell_type": "markdown",
   "id": "bfad6ae0",
   "metadata": {},
   "source": [
    "## Aggregation Functions\n",
    "1. Write a query that calculates the total cost of all animal rescues in the PETRESCUE table.\n",
    "\n",
    "For this query, we will use the function SUM(COLUMN_NAME). The output of this query will be the total value of all elements in the column. The query for this question can be written as:"
   ]
  },
  {
   "cell_type": "code",
   "execution_count": 1,
   "id": "66853530",
   "metadata": {},
   "outputs": [],
   "source": [
    "import mysql.connector\n",
    "\n",
    "cn=mysql.connector.connect(host='localhost',user='root',password='Vibha.7522')\n",
    "cursor=cn.cursor()"
   ]
  },
  {
   "cell_type": "code",
   "execution_count": 2,
   "id": "4f65083f",
   "metadata": {},
   "outputs": [],
   "source": [
    "cursor.execute(\"use petrescue\")"
   ]
  },
  {
   "cell_type": "code",
   "execution_count": 3,
   "id": "33b9a3f3",
   "metadata": {},
   "outputs": [
    {
     "data": {
      "text/plain": [
       "[(Decimal('1718.24'),)]"
      ]
     },
     "execution_count": 3,
     "metadata": {},
     "output_type": "execute_result"
    }
   ],
   "source": [
    "cursor.execute(\"SELECT SUM(COST) FROM PETRESCUE\")\n",
    "cursor.fetchall()"
   ]
  },
  {
   "cell_type": "markdown",
   "id": "aacd0420",
   "metadata": {},
   "source": [
    "You can further assign a label to the query SUM_OF_COST."
   ]
  },
  {
   "cell_type": "code",
   "execution_count": 4,
   "id": "4d4c3d1a",
   "metadata": {},
   "outputs": [
    {
     "data": {
      "text/plain": [
       "[(Decimal('1718.24'),)]"
      ]
     },
     "execution_count": 4,
     "metadata": {},
     "output_type": "execute_result"
    }
   ],
   "source": [
    "cursor.execute(\"SELECT SUM(COST) AS SUM_OF_COST FROM PETRESCUE\")\n",
    "cursor.fetchall()"
   ]
  },
  {
   "cell_type": "markdown",
   "id": "70caedaf",
   "metadata": {},
   "source": [
    "2. Write a query that displays the maximum quantity of animals rescued (of any kind).\n",
    "\n",
    "For this query, we will use the function MAX(COLUMN_NAME). The output of this query will be the maximum value of all elements in the column. The query for this question can be written as:"
   ]
  },
  {
   "cell_type": "code",
   "execution_count": 5,
   "id": "95879cb6",
   "metadata": {},
   "outputs": [
    {
     "data": {
      "text/plain": [
       "[(24,)]"
      ]
     },
     "execution_count": 5,
     "metadata": {},
     "output_type": "execute_result"
    }
   ],
   "source": [
    "cursor.execute(\"SELECT MAX(QUANTITY) FROM PETRESCUE\")\n",
    "cursor.fetchall()"
   ]
  },
  {
   "cell_type": "markdown",
   "id": "c68f5965",
   "metadata": {},
   "source": [
    "The query can easily be changed to display the minimum quantity using the MIN function instead."
   ]
  },
  {
   "cell_type": "code",
   "execution_count": 6,
   "id": "642f25e9",
   "metadata": {},
   "outputs": [
    {
     "data": {
      "text/plain": [
       "[(1,)]"
      ]
     },
     "execution_count": 6,
     "metadata": {},
     "output_type": "execute_result"
    }
   ],
   "source": [
    "cursor.execute(\"SELECT MIN(QUANTITY) FROM PETRESCUE\")\n",
    "cursor.fetchall()"
   ]
  },
  {
   "cell_type": "markdown",
   "id": "077de519",
   "metadata": {},
   "source": [
    "3. Write a query that displays the average cost of animals rescued.\n",
    "\n",
    "For this query, we will use AVG(COLUMN_NAME). The output of this query will be the average of all elements in the column. The query for this question can be written as"
   ]
  },
  {
   "cell_type": "code",
   "execution_count": 7,
   "id": "b3960980",
   "metadata": {},
   "outputs": [
    {
     "data": {
      "text/plain": [
       "[(Decimal('190.915556'),)]"
      ]
     },
     "execution_count": 7,
     "metadata": {},
     "output_type": "execute_result"
    }
   ],
   "source": [
    "cursor.execute(\"SELECT AVG(COST) FROM PETRESCUE\")\n",
    "cursor.fetchall()"
   ]
  },
  {
   "cell_type": "markdown",
   "id": "1d5893cd",
   "metadata": {},
   "source": [
    "## Scalar Functions and String Functions\n",
    "1. Write a query that displays the rounded integral cost of each rescue.\n",
    "\n",
    "For this query, we will use the function ROUND(COLUMN_NAME, NUMBER_OF_DECIMALS). The output of this query will be the value of each element in the column rounded to the specified number of decimal places. Note that the second argument is optional and, if omitted, results in rounding to an integer value. The query for this question can be written as:"
   ]
  },
  {
   "cell_type": "code",
   "execution_count": 8,
   "id": "d8cce13e",
   "metadata": {},
   "outputs": [
    {
     "data": {
      "text/plain": [
       "[(Decimal('450'),),\n",
       " (Decimal('667'),),\n",
       " (Decimal('100'),),\n",
       " (Decimal('50'),),\n",
       " (Decimal('76'),),\n",
       " (Decimal('61'),),\n",
       " (Decimal('44'),),\n",
       " (Decimal('48'),),\n",
       " (Decimal('222'),)]"
      ]
     },
     "execution_count": 8,
     "metadata": {},
     "output_type": "execute_result"
    }
   ],
   "source": [
    "cursor.execute(\"SELECT ROUND(COST) FROM PETRESCUE\")\n",
    "cursor.fetchall()"
   ]
  },
  {
   "cell_type": "code",
   "execution_count": 9,
   "id": "f413b1c6",
   "metadata": {},
   "outputs": [
    {
     "data": {
      "text/plain": [
       "[(Decimal('450'),),\n",
       " (Decimal('667'),),\n",
       " (Decimal('100'),),\n",
       " (Decimal('50'),),\n",
       " (Decimal('76'),),\n",
       " (Decimal('61'),),\n",
       " (Decimal('44'),),\n",
       " (Decimal('48'),),\n",
       " (Decimal('222'),)]"
      ]
     },
     "execution_count": 9,
     "metadata": {},
     "output_type": "execute_result"
    }
   ],
   "source": [
    "cursor.execute(\"SELECT ROUND(COST, 0) FROM PETRESCUE\")\n",
    "cursor.fetchall()"
   ]
  },
  {
   "cell_type": "markdown",
   "id": "9e7b5158",
   "metadata": {},
   "source": [
    "In case the question was to round the value to 2 decimal places, the query would change to:"
   ]
  },
  {
   "cell_type": "code",
   "execution_count": 10,
   "id": "8f3151b3",
   "metadata": {},
   "outputs": [
    {
     "data": {
      "text/plain": [
       "[(Decimal('450.09'),),\n",
       " (Decimal('666.66'),),\n",
       " (Decimal('100.00'),),\n",
       " (Decimal('50.00'),),\n",
       " (Decimal('75.75'),),\n",
       " (Decimal('60.60'),),\n",
       " (Decimal('44.44'),),\n",
       " (Decimal('48.48'),),\n",
       " (Decimal('222.22'),)]"
      ]
     },
     "execution_count": 10,
     "metadata": {},
     "output_type": "execute_result"
    }
   ],
   "source": [
    "cursor.execute(\"SELECT ROUND(COST, 2) FROM PETRESCUE\")\n",
    "cursor.fetchall()"
   ]
  },
  {
   "cell_type": "markdown",
   "id": "f76ab10a",
   "metadata": {},
   "source": [
    "2. Write a query that displays the length of each animal name.\n",
    "\n",
    "For this query, we will use the function LENGTH(COLUMN_NAME). The output of this query will be the length of each element in the column. The query for this question can be written as:"
   ]
  },
  {
   "cell_type": "code",
   "execution_count": 11,
   "id": "091d9569",
   "metadata": {},
   "outputs": [
    {
     "data": {
      "text/plain": [
       "[(3,), (3,), (3,), (6,), (3,), (7,), (3,), (8,), (3,)]"
      ]
     },
     "execution_count": 11,
     "metadata": {},
     "output_type": "execute_result"
    }
   ],
   "source": [
    "cursor.execute(\"SELECT LENGTH(ANIMAL) FROM PETRESCUE\")\n",
    "cursor.fetchall()"
   ]
  },
  {
   "cell_type": "markdown",
   "id": "cb089c76",
   "metadata": {},
   "source": [
    "3. Write a query that displays the animal name in each rescue in uppercase.\n",
    "\n",
    "For this query, we will use the function UCASE(COLUMN_NAME). The output of this query will be each element in the column in upper case letters. The query for this question can be written as:"
   ]
  },
  {
   "cell_type": "code",
   "execution_count": 12,
   "id": "bc7bfaa1",
   "metadata": {},
   "outputs": [
    {
     "data": {
      "text/plain": [
       "[('CAT',),\n",
       " ('DOG',),\n",
       " ('DOG',),\n",
       " ('PARROT',),\n",
       " ('DOG',),\n",
       " ('HAMSTER',),\n",
       " ('CAT',),\n",
       " ('GOLDFISH',),\n",
       " ('DOG',)]"
      ]
     },
     "execution_count": 12,
     "metadata": {},
     "output_type": "execute_result"
    }
   ],
   "source": [
    "cursor.execute(\"SELECT UCASE(ANIMAL) FROM PETRESCUE\")\n",
    "cursor.fetchall()"
   ]
  },
  {
   "cell_type": "markdown",
   "id": "7b2ddde6",
   "metadata": {},
   "source": [
    "Just as easily, the user could ask for a lower case representation, and the query would be changed to:"
   ]
  },
  {
   "cell_type": "code",
   "execution_count": 13,
   "id": "b9d61859",
   "metadata": {},
   "outputs": [
    {
     "data": {
      "text/plain": [
       "[('cat',),\n",
       " ('dog',),\n",
       " ('dog',),\n",
       " ('parrot',),\n",
       " ('dog',),\n",
       " ('hamster',),\n",
       " ('cat',),\n",
       " ('goldfish',),\n",
       " ('dog',)]"
      ]
     },
     "execution_count": 13,
     "metadata": {},
     "output_type": "execute_result"
    }
   ],
   "source": [
    "cursor.execute(\"SELECT LCASE(ANIMAL) FROM PETRESCUE\")\n",
    "cursor.fetchall()"
   ]
  },
  {
   "cell_type": "markdown",
   "id": "ebc92891",
   "metadata": {},
   "source": [
    "## Date Functions\n",
    "1. Write a query that displays the day of the month when cats have been rescued.\n",
    "\n",
    "For this query, we will use the function DAY(COLUMN_NAME). The output of this query will be only the DAY part of the date in the column. The query for this question can be written as:"
   ]
  },
  {
   "cell_type": "code",
   "execution_count": 14,
   "id": "dcde50c0",
   "metadata": {},
   "outputs": [
    {
     "data": {
      "text/plain": [
       "[(29,), (1,), (4,), (4,), (10,), (11,), (11,), (14,), (15,)]"
      ]
     },
     "execution_count": 14,
     "metadata": {},
     "output_type": "execute_result"
    }
   ],
   "source": [
    "cursor.execute(\"SELECT DAY(RESCUEDATE) FROM PETRESCUE\")\n",
    "cursor.fetchall()"
   ]
  },
  {
   "cell_type": "markdown",
   "id": "b62ef011",
   "metadata": {},
   "source": [
    "In case the query was asking for MONTH of rescue, the query would change to:"
   ]
  },
  {
   "cell_type": "code",
   "execution_count": 15,
   "id": "55b6cfaa",
   "metadata": {},
   "outputs": [
    {
     "data": {
      "text/plain": [
       "[(5,), (6,), (6,), (6,), (6,), (6,), (6,), (6,), (6,)]"
      ]
     },
     "execution_count": 15,
     "metadata": {},
     "output_type": "execute_result"
    }
   ],
   "source": [
    "cursor.execute(\"SELECT MONTH(RESCUEDATE) FROM PETRESCUE\")\n",
    "cursor.fetchall()"
   ]
  },
  {
   "cell_type": "markdown",
   "id": "e70ca0c3",
   "metadata": {},
   "source": [
    "In case the query was asking for YEAR of rescue, the query would change to:"
   ]
  },
  {
   "cell_type": "code",
   "execution_count": 16,
   "id": "ed8609d3",
   "metadata": {},
   "outputs": [
    {
     "data": {
      "text/plain": [
       "[(2018,),\n",
       " (2018,),\n",
       " (2018,),\n",
       " (2018,),\n",
       " (2018,),\n",
       " (2018,),\n",
       " (2018,),\n",
       " (2018,),\n",
       " (2018,)]"
      ]
     },
     "execution_count": 16,
     "metadata": {},
     "output_type": "execute_result"
    }
   ],
   "source": [
    "cursor.execute(\"SELECT YEAR(RESCUEDATE) FROM PETRESCUE\")\n",
    "cursor.fetchall()"
   ]
  },
  {
   "cell_type": "markdown",
   "id": "ebbd5054",
   "metadata": {},
   "source": [
    "2. Animals rescued should see the vet within three days of arrival. Write a query that displays the third day of each rescue.\n",
    "\n",
    "For this query, we will use the function DATE_ADD(COLUMN_NAME, INTERVAL Number Date_element). Here, the quantity in Number and in Date_element will combine to form the interval to be added to the date in the column. For the given question, the query would be:"
   ]
  },
  {
   "cell_type": "code",
   "execution_count": 17,
   "id": "7a657536",
   "metadata": {},
   "outputs": [
    {
     "data": {
      "text/plain": [
       "[(datetime.date(2018, 6, 1),),\n",
       " (datetime.date(2018, 6, 4),),\n",
       " (datetime.date(2018, 6, 7),),\n",
       " (datetime.date(2018, 6, 7),),\n",
       " (datetime.date(2018, 6, 13),),\n",
       " (datetime.date(2018, 6, 14),),\n",
       " (datetime.date(2018, 6, 14),),\n",
       " (datetime.date(2018, 6, 17),),\n",
       " (datetime.date(2018, 6, 18),)]"
      ]
     },
     "execution_count": 17,
     "metadata": {},
     "output_type": "execute_result"
    }
   ],
   "source": [
    "cursor.execute(\"SELECT DATE_ADD(RESCUEDATE, INTERVAL 3 DAY) FROM PETRESCUE\")\n",
    "cursor.fetchall()"
   ]
  },
  {
   "cell_type": "markdown",
   "id": "9d2e2c30",
   "metadata": {},
   "source": [
    "If the question was to add 2 months to the date, the query would change to:"
   ]
  },
  {
   "cell_type": "code",
   "execution_count": 18,
   "id": "d56ae290",
   "metadata": {},
   "outputs": [
    {
     "data": {
      "text/plain": [
       "[(datetime.date(2018, 7, 29),),\n",
       " (datetime.date(2018, 8, 1),),\n",
       " (datetime.date(2018, 8, 4),),\n",
       " (datetime.date(2018, 8, 4),),\n",
       " (datetime.date(2018, 8, 10),),\n",
       " (datetime.date(2018, 8, 11),),\n",
       " (datetime.date(2018, 8, 11),),\n",
       " (datetime.date(2018, 8, 14),),\n",
       " (datetime.date(2018, 8, 15),)]"
      ]
     },
     "execution_count": 18,
     "metadata": {},
     "output_type": "execute_result"
    }
   ],
   "source": [
    "cursor.execute(\"SELECT DATE_ADD(RESCUEDATE, INTERVAL 2 MONTH) FROM PETRESCUE\")\n",
    "cursor.fetchall()"
   ]
  },
  {
   "cell_type": "markdown",
   "id": "345b42c7",
   "metadata": {},
   "source": [
    "Similarly, we can retrieve a date before the one given in the column by a given number using the function DATE_SUB. By modifying the same example, the following query would provide the date 3 days before the rescue."
   ]
  },
  {
   "cell_type": "code",
   "execution_count": 19,
   "id": "b89fdd0e",
   "metadata": {},
   "outputs": [
    {
     "data": {
      "text/plain": [
       "[(datetime.date(2018, 5, 26),),\n",
       " (datetime.date(2018, 5, 29),),\n",
       " (datetime.date(2018, 6, 1),),\n",
       " (datetime.date(2018, 6, 1),),\n",
       " (datetime.date(2018, 6, 7),),\n",
       " (datetime.date(2018, 6, 8),),\n",
       " (datetime.date(2018, 6, 8),),\n",
       " (datetime.date(2018, 6, 11),),\n",
       " (datetime.date(2018, 6, 12),)]"
      ]
     },
     "execution_count": 19,
     "metadata": {},
     "output_type": "execute_result"
    }
   ],
   "source": [
    "cursor.execute(\"SELECT DATE_SUB(RESCUEDATE, INTERVAL 3 DAY) FROM PETRESCUE\")\n",
    "cursor.fetchall()"
   ]
  },
  {
   "cell_type": "markdown",
   "id": "ec6611b6",
   "metadata": {},
   "source": [
    "3. Write a query that displays the length of time the animals have been rescued, for example, the difference between the current date and the rescue date.\n",
    "\n",
    "For this query, we will use the function DATEDIFF(Date_1, Date_2). This function calculates the difference between the two given dates and gives the output in number of days. For the given question, the query would be:"
   ]
  },
  {
   "cell_type": "code",
   "execution_count": 20,
   "id": "5fdaff82",
   "metadata": {},
   "outputs": [
    {
     "data": {
      "text/plain": [
       "[(2002,),\n",
       " (1999,),\n",
       " (1996,),\n",
       " (1996,),\n",
       " (1990,),\n",
       " (1989,),\n",
       " (1989,),\n",
       " (1986,),\n",
       " (1985,)]"
      ]
     },
     "execution_count": 20,
     "metadata": {},
     "output_type": "execute_result"
    }
   ],
   "source": [
    "cursor.execute(\"SELECT DATEDIFF(CURRENT_DATE, RESCUEDATE) FROM PETRESCUE\")\n",
    "cursor.fetchall()"
   ]
  },
  {
   "cell_type": "markdown",
   "id": "a27e7877",
   "metadata": {},
   "source": [
    "CURRENT_DATE is also an inbuilt function that returns the present date as known to the server.\n",
    "\n",
    "To present the output in a YYYY-MM-DD format, another function FROM_DAYS(number_of_days)can be used. This function takes a number of days and returns the required formatted output. The query above would thus be modified to"
   ]
  },
  {
   "cell_type": "code",
   "execution_count": 21,
   "id": "8087edbc",
   "metadata": {},
   "outputs": [
    {
     "data": {
      "text/plain": [
       "[(datetime.date(5, 6, 25),),\n",
       " (datetime.date(5, 6, 22),),\n",
       " (datetime.date(5, 6, 19),),\n",
       " (datetime.date(5, 6, 19),),\n",
       " (datetime.date(5, 6, 13),),\n",
       " (datetime.date(5, 6, 12),),\n",
       " (datetime.date(5, 6, 12),),\n",
       " (datetime.date(5, 6, 9),),\n",
       " (datetime.date(5, 6, 8),)]"
      ]
     },
     "execution_count": 21,
     "metadata": {},
     "output_type": "execute_result"
    }
   ],
   "source": [
    "cursor.execute(\"SELECT FROM_DAYS(DATEDIFF(CURRENT_DATE, RESCUEDATE)) FROM PETRESCUE\")\n",
    "cursor.fetchall()"
   ]
  },
  {
   "cell_type": "markdown",
   "id": "f3e8eecb",
   "metadata": {},
   "source": [
    "## Practice Problems\n",
    "1. Write a query that displays the average cost of rescuing a single dog. Note that the cost per dog would not be the same in different instances."
   ]
  },
  {
   "cell_type": "code",
   "execution_count": null,
   "id": "a3fd435d",
   "metadata": {},
   "outputs": [],
   "source": [
    "SELECT AVG(COST/QUANTITY) FROM PETRESCUE WHERE ANIMAL = 'Dog'"
   ]
  },
  {
   "cell_type": "markdown",
   "id": "a2989e16",
   "metadata": {},
   "source": [
    "2. Write a query that displays the animal name in each rescue in uppercase without duplications."
   ]
  },
  {
   "cell_type": "code",
   "execution_count": null,
   "id": "394108d2",
   "metadata": {},
   "outputs": [],
   "source": [
    "SELECT DISTINCT UCASE(ANIMAL) FROM PETRESCUE"
   ]
  },
  {
   "cell_type": "markdown",
   "id": "7d5dd4ba",
   "metadata": {},
   "source": [
    "3. Write a query that displays all the columns from the PETRESCUE table where the animal(s) rescued are cats. Use cat in lowercase in the query."
   ]
  },
  {
   "cell_type": "code",
   "execution_count": null,
   "id": "1178a978",
   "metadata": {},
   "outputs": [],
   "source": [
    "SELECT * FROM PETRESCUE WHERE LCASE(ANIMAL)=\"cat\""
   ]
  },
  {
   "cell_type": "markdown",
   "id": "8ee7d272",
   "metadata": {},
   "source": [
    "4. Write a query that displays the number of rescues in the 5th month."
   ]
  },
  {
   "cell_type": "code",
   "execution_count": null,
   "id": "73220049",
   "metadata": {},
   "outputs": [],
   "source": [
    "SELECT SUM(QUANTITY) FROM PETRESCUE WHERE MONTH(RESCUEDATE)=\"05\""
   ]
  },
  {
   "cell_type": "markdown",
   "id": "2f1dfdcb",
   "metadata": {},
   "source": [
    "5. The rescue shelter is supposed to find good homes for all animals within 1 year of their rescue. Write a query that displays the ID and the target date."
   ]
  },
  {
   "cell_type": "code",
   "execution_count": null,
   "id": "76fc9b36",
   "metadata": {},
   "outputs": [],
   "source": [
    "SELECT ID, DATE_ADD(RESCUEDATE, INTERVAL 1 YEAR) FROM PETRESCUE"
   ]
  },
  {
   "cell_type": "markdown",
   "id": "e4cea0a9",
   "metadata": {},
   "source": [
    "## Sub-queries and Nested Selects\n",
    "\n",
    "Say you are asked to retrieve all employee records whose salary is lower than the average salary. You might use the following query to do this."
   ]
  },
  {
   "cell_type": "code",
   "execution_count": 3,
   "id": "c4dbc0c5",
   "metadata": {},
   "outputs": [],
   "source": [
    "cursor.execute(\"use HR_Database\")"
   ]
  },
  {
   "cell_type": "code",
   "execution_count": null,
   "id": "61777d28",
   "metadata": {},
   "outputs": [],
   "source": [
    "cursor.execute(\"select * from employees where salary<avg(salary)\")\n",
    "cursor.fetchall()"
   ]
  },
  {
   "cell_type": "markdown",
   "id": "4e52bd01",
   "metadata": {},
   "source": [
    "However, this query will generate an error stating, \"Illegal use of group function.\" Here, the group function is AVG and cannot be used directly in the condition since it has not been retrieved from the data. Therefore, the condition will use a sub-query to retrieve the average salary information to compare the existing salary. The modified query would become:"
   ]
  },
  {
   "cell_type": "code",
   "execution_count": 6,
   "id": "b0bdf65d",
   "metadata": {},
   "outputs": [
    {
     "data": {
      "text/plain": [
       "[('E1003',\n",
       "  'Steve',\n",
       "  'Wells',\n",
       "  '123458',\n",
       "  datetime.date(1980, 10, 8),\n",
       "  'M',\n",
       "  '291 Springs, Gary,IL',\n",
       "  '300',\n",
       "  Decimal('50000.00'),\n",
       "  '30002',\n",
       "  '5'),\n",
       " ('E1004',\n",
       "  'Santosh',\n",
       "  'Kumar',\n",
       "  '123459',\n",
       "  datetime.date(1985, 7, 20),\n",
       "  'M',\n",
       "  '511 Aurora Av, Aurora,IL',\n",
       "  '400',\n",
       "  Decimal('60000.00'),\n",
       "  '30002',\n",
       "  '5'),\n",
       " ('E1005',\n",
       "  'Ahmed',\n",
       "  'Hussain',\n",
       "  '123410',\n",
       "  datetime.date(1981, 4, 1),\n",
       "  'M',\n",
       "  '216 Oak Tree, Geneva,IL',\n",
       "  '500',\n",
       "  Decimal('70000.00'),\n",
       "  '30001',\n",
       "  '2'),\n",
       " ('E1007',\n",
       "  'Mary',\n",
       "  'Thomas',\n",
       "  '123412',\n",
       "  datetime.date(1975, 5, 5),\n",
       "  'F',\n",
       "  '100 Rose Pl, Gary,IL',\n",
       "  '650',\n",
       "  Decimal('65000.00'),\n",
       "  '30003',\n",
       "  '7'),\n",
       " ('E1008',\n",
       "  'Bharath',\n",
       "  'Gupta',\n",
       "  '123413',\n",
       "  datetime.date(1985, 6, 5),\n",
       "  'M',\n",
       "  '145 Berry Ln, Naperville,IL',\n",
       "  '660',\n",
       "  Decimal('65000.00'),\n",
       "  '30003',\n",
       "  '7'),\n",
       " ('E1009',\n",
       "  'Andrea',\n",
       "  'Jones',\n",
       "  '123414',\n",
       "  datetime.date(1990, 9, 7),\n",
       "  'F',\n",
       "  '120 Fall Creek, Gary,IL',\n",
       "  '234',\n",
       "  Decimal('70000.00'),\n",
       "  '30003',\n",
       "  '7'),\n",
       " ('E1010',\n",
       "  'Ann',\n",
       "  'Jacob',\n",
       "  '123415',\n",
       "  datetime.date(1982, 3, 30),\n",
       "  'F',\n",
       "  '111 Britany Springs,Elgin,IL',\n",
       "  '220',\n",
       "  Decimal('70000.00'),\n",
       "  '30002',\n",
       "  '5')]"
      ]
     },
     "execution_count": 6,
     "metadata": {},
     "output_type": "execute_result"
    }
   ],
   "source": [
    "cursor.execute(\"select * from employees where salary<(select avg(salary) from employees)\")\n",
    "cursor.fetchall()"
   ]
  },
  {
   "cell_type": "markdown",
   "id": "aaa54a22",
   "metadata": {},
   "source": [
    "Now, consider executing a query that retrieves all employee records with EMP_ID, SALARY, and maximum salary as MAX_SALARY in every row. For this, the maximum salary must be queried and used as one of the columns. This can be done using the query below."
   ]
  },
  {
   "cell_type": "code",
   "execution_count": null,
   "id": "7423b143",
   "metadata": {},
   "outputs": [],
   "source": [
    "SELECT EMP_ID, SALARY, (SELECT MAX(SALARY) FROM EMPLOYEES) AS MAX_SALARY \n",
    "FROM EMPLOYEES;"
   ]
  },
  {
   "cell_type": "markdown",
   "id": "7e17f51b",
   "metadata": {},
   "source": [
    "Now, consider that you wish to extract the first and last names of the oldest employee. Since the oldest employee will be the one with the smallest date of birth, the query can be written as:"
   ]
  },
  {
   "cell_type": "code",
   "execution_count": null,
   "id": "6cf101f4",
   "metadata": {},
   "outputs": [],
   "source": [
    "SELECT f_name, l_name FROM employees WHERE DOB=(SELECT MIN(DOB) FROM employees)"
   ]
  },
  {
   "cell_type": "markdown",
   "id": "d716c8b2",
   "metadata": {},
   "source": [
    "You may also use sub-queries to create derived tables, which can then be used to query specific information. Say you want to know the average salary of the top 5 earners in the company. You will first have to extract a table of the top five salaries as a table. From that table, you can query the average value of the salary. The query can be written as follows."
   ]
  },
  {
   "cell_type": "code",
   "execution_count": null,
   "id": "5cc4aa30",
   "metadata": {},
   "outputs": [],
   "source": [
    "SELECT AVG(SALARY) \n",
    "FROM (SELECT SALARY \n",
    "      FROM EMPLOYEES \n",
    "      ORDER BY SALARY DESC \n",
    "      LIMIT 5) AS SALARY_TABLE;"
   ]
  },
  {
   "cell_type": "markdown",
   "id": "13fd48db",
   "metadata": {},
   "source": [
    "## Practice Problems\n",
    "1. Write a query to find the average salary of the five least-earning employees."
   ]
  },
  {
   "cell_type": "code",
   "execution_count": null,
   "id": "b2f4907d",
   "metadata": {},
   "outputs": [],
   "source": [
    "select avg(avg_salary) \n",
    "from (select salary \n",
    "      from employees \n",
    "      order by salary limit 5) as avg_salary"
   ]
  },
  {
   "cell_type": "markdown",
   "id": "c072e0e6",
   "metadata": {},
   "source": [
    "2. Write a query to find the records of employees older than the average age of all employees.\n",
    "\n",
    "Age in years can be calculated as the year component in the difference between DOB and current date. You need to compare the age in years with average age in years. The average age in years will be evaluated as a sub-query."
   ]
  },
  {
   "cell_type": "code",
   "execution_count": null,
   "id": "da16668c",
   "metadata": {},
   "outputs": [],
   "source": [
    "SELECT * \n",
    "FROM EMPLOYEES \n",
    "WHERE YEAR(FROM_DAYS(DATEDIFF(CURRENT_DATE,BirthDate))) > \n",
    "    (SELECT AVG(YEAR(FROM_DAYS(DATEDIFF(CURRENT_DATE,BirthDate)))) \n",
    "    FROM Employees);"
   ]
  },
  {
   "cell_type": "markdown",
   "id": "92339c81",
   "metadata": {},
   "source": [
    "3. From the Job_History table, display the list of Employee IDs, years of service, and average years of service for all entries.\n",
    "\n",
    "For this, you need to calculate the years of service as a difference between the date of joining and the current date. Average years of service need to be queried separately to be displayed."
   ]
  },
  {
   "cell_type": "code",
   "execution_count": null,
   "id": "f13a7bd5",
   "metadata": {},
   "outputs": [],
   "source": [
    "SELECT EMPL_ID, YEAR(FROM_DAYS(DATEDIFF(CURRENT_DATE, STARTDATE))), \n",
    "    (SELECT AVG(YEAR(FROM_DAYS(DATEDIFF(CURRENT_DATE, STARTDATE)))) \n",
    "    FROM JOB_HISTORY)\n",
    "FROM JOB_HISTORY;"
   ]
  },
  {
   "cell_type": "markdown",
   "id": "b431c1f1",
   "metadata": {},
   "source": [
    "You should now be able to:\n",
    "\n",
    "Write SQL queries that demonstrate the necessity of using sub-queries\n",
    "\n",
    "Compose sub-queries in the WHERE clause\n",
    "\n",
    "Build Column Expressions (for example, sub-query in place of a column)\n",
    "\n",
    "Write Table Expressions (for example, sub-query in place of a table)"
   ]
  },
  {
   "cell_type": "code",
   "execution_count": null,
   "id": "6ef46a52",
   "metadata": {},
   "outputs": [],
   "source": []
  }
 ],
 "metadata": {
  "kernelspec": {
   "display_name": "Python 3 (ipykernel)",
   "language": "python",
   "name": "python3"
  },
  "language_info": {
   "codemirror_mode": {
    "name": "ipython",
    "version": 3
   },
   "file_extension": ".py",
   "mimetype": "text/x-python",
   "name": "python",
   "nbconvert_exporter": "python",
   "pygments_lexer": "ipython3",
   "version": "3.11.4"
  }
 },
 "nbformat": 4,
 "nbformat_minor": 5
}
